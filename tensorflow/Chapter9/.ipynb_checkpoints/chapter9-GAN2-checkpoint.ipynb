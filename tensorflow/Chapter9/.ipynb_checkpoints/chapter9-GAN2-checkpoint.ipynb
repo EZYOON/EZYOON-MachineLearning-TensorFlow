{
 "cells": [
  {
   "cell_type": "code",
   "execution_count": 1,
   "metadata": {},
   "outputs": [
    {
     "name": "stdout",
     "output_type": "stream",
     "text": [
      "WARNING:tensorflow:From c:\\users\\jiyun lee\\appdata\\local\\programs\\python\\python37\\lib\\site-packages\\tensorflow_core\\python\\compat\\v2_compat.py:65: disable_resource_variables (from tensorflow.python.ops.variable_scope) is deprecated and will be removed in a future version.\n",
      "Instructions for updating:\n",
      "non-resource variables are not supported in the long term\n",
      "WARNING:tensorflow:From <ipython-input-1-35cf02ac6afe>:7: read_data_sets (from tensorflow.examples.tutorials.mnist.input_data) is deprecated and will be removed in a future version.\n",
      "Instructions for updating:\n",
      "Please use alternatives such as: tensorflow_datasets.load('mnist')\n",
      "WARNING:tensorflow:From c:\\users\\jiyun lee\\appdata\\local\\programs\\python\\python37\\lib\\site-packages\\tensorflow_core\\examples\\tutorials\\mnist\\input_data.py:297: _maybe_download (from tensorflow.examples.tutorials.mnist.input_data) is deprecated and will be removed in a future version.\n",
      "Instructions for updating:\n",
      "Please write your own downloading logic.\n",
      "WARNING:tensorflow:From c:\\users\\jiyun lee\\appdata\\local\\programs\\python\\python37\\lib\\site-packages\\tensorflow_core\\examples\\tutorials\\mnist\\input_data.py:299: _extract_images (from tensorflow.examples.tutorials.mnist.input_data) is deprecated and will be removed in a future version.\n",
      "Instructions for updating:\n",
      "Please use tf.data to implement this functionality.\n",
      "Extracting ./mnist/data/train-images-idx3-ubyte.gz\n",
      "WARNING:tensorflow:From c:\\users\\jiyun lee\\appdata\\local\\programs\\python\\python37\\lib\\site-packages\\tensorflow_core\\examples\\tutorials\\mnist\\input_data.py:304: _extract_labels (from tensorflow.examples.tutorials.mnist.input_data) is deprecated and will be removed in a future version.\n",
      "Instructions for updating:\n",
      "Please use tf.data to implement this functionality.\n",
      "Extracting ./mnist/data/train-labels-idx1-ubyte.gz\n",
      "WARNING:tensorflow:From c:\\users\\jiyun lee\\appdata\\local\\programs\\python\\python37\\lib\\site-packages\\tensorflow_core\\examples\\tutorials\\mnist\\input_data.py:112: _dense_to_one_hot (from tensorflow.examples.tutorials.mnist.input_data) is deprecated and will be removed in a future version.\n",
      "Instructions for updating:\n",
      "Please use tf.one_hot on tensors.\n",
      "Extracting ./mnist/data/t10k-images-idx3-ubyte.gz\n",
      "Extracting ./mnist/data/t10k-labels-idx1-ubyte.gz\n",
      "WARNING:tensorflow:From c:\\users\\jiyun lee\\appdata\\local\\programs\\python\\python37\\lib\\site-packages\\tensorflow_core\\examples\\tutorials\\mnist\\input_data.py:328: _DataSet.__init__ (from tensorflow.examples.tutorials.mnist.input_data) is deprecated and will be removed in a future version.\n",
      "Instructions for updating:\n",
      "Please use alternatives such as official/mnist/_DataSet.py from tensorflow/models.\n"
     ]
    }
   ],
   "source": [
    "import tensorflow.compat.v1 as tf\n",
    "tf.disable_v2_behavior()\n",
    "import matplotlib.pyplot as plt\n",
    "import numpy as np\n",
    "\n",
    "from tensorflow.examples.tutorials.mnist import input_data\n",
    "mnist = input_data.read_data_sets(\"./mnist/data/\", one_hot=True)"
   ]
  },
  {
   "cell_type": "code",
   "execution_count": 2,
   "metadata": {},
   "outputs": [],
   "source": [
    "total_epoch = 100\n",
    "batch_size = 100\n",
    "n_hidden = 256\n",
    "n_input = 28 * 28\n",
    "n_noise = 128\n",
    "n_class = 10"
   ]
  },
  {
   "cell_type": "code",
   "execution_count": 3,
   "metadata": {},
   "outputs": [],
   "source": [
    "X = tf.placeholder(tf.float32, [None, n_input])\n",
    "# 노이즈와 실제 이미지에, 그에 해당하는 숫자에 대한 정보를 넣어주기 위해 사용합니다.\n",
    "Y = tf.placeholder(tf.float32, [None, n_class])\n",
    "Z = tf.placeholder(tf.float32, [None, n_noise])"
   ]
  },
  {
   "cell_type": "code",
   "execution_count": 4,
   "metadata": {},
   "outputs": [],
   "source": [
    "def generator(noise, labels):\n",
    "    with tf.variable_scope('generator'):\n",
    "        # noise 값에 labels 정보를 추가합니다.\n",
    "        inputs = tf.concat([noise, labels], 1)\n",
    "\n",
    "        # TensorFlow 에서 제공하는 유틸리티 함수를 이용해 신경망을 매우 간단하게 구성할 수 있습니다.\n",
    "        hidden = tf.layers.dense(inputs, n_hidden,\n",
    "                                 activation=tf.nn.relu)\n",
    "        output = tf.layers.dense(hidden, n_input,\n",
    "                                 activation=tf.nn.sigmoid)\n",
    "\n",
    "    return output"
   ]
  },
  {
   "cell_type": "code",
   "execution_count": 5,
   "metadata": {},
   "outputs": [],
   "source": [
    "def discriminator(inputs, labels, reuse=None):\n",
    "    with tf.variable_scope('discriminator') as scope:\n",
    "        # 노이즈에서 생성한 이미지와 실제 이미지를 판별하는 모델의 변수를 동일하게 하기 위해,\n",
    "        # 이전에 사용되었던 변수를 재사용하도록 합니다.\n",
    "        if reuse:\n",
    "            scope.reuse_variables()\n",
    "\n",
    "        inputs = tf.concat([inputs, labels], 1)\n",
    "\n",
    "        hidden = tf.layers.dense(inputs, n_hidden,\n",
    "                                 activation=tf.nn.relu)\n",
    "        output = tf.layers.dense(hidden, 1,\n",
    "                                 activation=None)\n",
    "\n",
    "    return output"
   ]
  },
  {
   "cell_type": "code",
   "execution_count": 6,
   "metadata": {},
   "outputs": [],
   "source": [
    "def get_noise(batch_size, n_noise):\n",
    "    return np.random.uniform(-1., 1., size=[batch_size, n_noise])"
   ]
  },
  {
   "cell_type": "code",
   "execution_count": 7,
   "metadata": {},
   "outputs": [
    {
     "name": "stdout",
     "output_type": "stream",
     "text": [
      "WARNING:tensorflow:From <ipython-input-4-486b3714d0af>:8: dense (from tensorflow.python.layers.core) is deprecated and will be removed in a future version.\n",
      "Instructions for updating:\n",
      "Use keras.layers.Dense instead.\n",
      "WARNING:tensorflow:From c:\\users\\jiyun lee\\appdata\\local\\programs\\python\\python37\\lib\\site-packages\\tensorflow_core\\python\\layers\\core.py:187: Layer.apply (from tensorflow.python.keras.engine.base_layer) is deprecated and will be removed in a future version.\n",
      "Instructions for updating:\n",
      "Please use `layer.__call__` method instead.\n"
     ]
    }
   ],
   "source": [
    "G = generator(Z, Y)\n",
    "D_real = discriminator(X, Y)\n",
    "D_gene = discriminator(G, Y, True)"
   ]
  },
  {
   "cell_type": "code",
   "execution_count": 8,
   "metadata": {},
   "outputs": [],
   "source": [
    "loss_D_real = tf.reduce_mean(\n",
    "                    tf.nn.sigmoid_cross_entropy_with_logits(\n",
    "                        logits=D_real, labels=tf.ones_like(D_real)))\n",
    "loss_D_gene = tf.reduce_mean(\n",
    "                    tf.nn.sigmoid_cross_entropy_with_logits(\n",
    "                        logits=D_gene, labels=tf.zeros_like(D_gene)))"
   ]
  },
  {
   "cell_type": "code",
   "execution_count": 10,
   "metadata": {},
   "outputs": [],
   "source": [
    "loss_D = loss_D_real + loss_D_gene\n",
    "loss_G = tf.reduce_mean(\n",
    "                    tf.nn.sigmoid_cross_entropy_with_logits(\n",
    "                        logits=D_gene, labels=tf.ones_like(D_gene)))"
   ]
  },
  {
   "cell_type": "code",
   "execution_count": 11,
   "metadata": {},
   "outputs": [],
   "source": [
    "vars_D = tf.get_collection(tf.GraphKeys.TRAINABLE_VARIABLES,\n",
    "                           scope='discriminator')\n",
    "vars_G = tf.get_collection(tf.GraphKeys.TRAINABLE_VARIABLES,\n",
    "                           scope='generator')\n",
    "\n",
    "train_D = tf.train.AdamOptimizer().minimize(loss_D,\n",
    "                                            var_list=vars_D)\n",
    "train_G = tf.train.AdamOptimizer().minimize(loss_G,\n",
    "                                            var_list=vars_G)"
   ]
  },
  {
   "cell_type": "code",
   "execution_count": 13,
   "metadata": {},
   "outputs": [
    {
     "name": "stdout",
     "output_type": "stream",
     "text": [
      "Epoch: 0000 D loss: 0.00873 G loss: 7.195\n",
      "Epoch: 0001 D loss: 0.01883 G loss: 7.589\n",
      "Epoch: 0002 D loss: 0.02908 G loss: 7.89\n",
      "Epoch: 0003 D loss: 0.03993 G loss: 6.282\n",
      "Epoch: 0004 D loss: 0.03853 G loss: 7.166\n",
      "Epoch: 0005 D loss: 0.04432 G loss: 7.406\n",
      "Epoch: 0006 D loss: 0.1486 G loss: 6.48\n",
      "Epoch: 0007 D loss: 0.113 G loss: 7.384\n",
      "Epoch: 0008 D loss: 0.1179 G loss: 7.343\n",
      "Epoch: 0009 D loss: 0.1165 G loss: 6.468\n",
      "Epoch: 0010 D loss: 0.1765 G loss: 5.395\n",
      "Epoch: 0011 D loss: 0.4552 G loss: 5.884\n",
      "Epoch: 0012 D loss: 0.2175 G loss: 4.411\n",
      "Epoch: 0013 D loss: 0.3574 G loss: 4.118\n",
      "Epoch: 0014 D loss: 0.4204 G loss: 4.229\n",
      "Epoch: 0015 D loss: 0.3819 G loss: 3.997\n",
      "Epoch: 0016 D loss: 0.3924 G loss: 4.149\n",
      "Epoch: 0017 D loss: 0.5236 G loss: 4.281\n",
      "Epoch: 0018 D loss: 0.5495 G loss: 4.541\n",
      "Epoch: 0019 D loss: 0.3478 G loss: 4.137\n",
      "Epoch: 0020 D loss: 0.4425 G loss: 3.328\n",
      "Epoch: 0021 D loss: 0.5901 G loss: 3.023\n",
      "Epoch: 0022 D loss: 0.5449 G loss: 3.025\n",
      "Epoch: 0023 D loss: 0.7018 G loss: 3.33\n",
      "Epoch: 0024 D loss: 0.5721 G loss: 2.866\n",
      "Epoch: 0025 D loss: 0.6061 G loss: 2.514\n",
      "Epoch: 0026 D loss: 0.6378 G loss: 2.639\n",
      "Epoch: 0027 D loss: 0.7966 G loss: 2.258\n",
      "Epoch: 0028 D loss: 0.6058 G loss: 2.741\n",
      "Epoch: 0029 D loss: 0.6953 G loss: 2.781\n",
      "Epoch: 0030 D loss: 0.8038 G loss: 2.586\n",
      "Epoch: 0031 D loss: 0.772 G loss: 2.05\n",
      "Epoch: 0032 D loss: 0.5911 G loss: 2.503\n",
      "Epoch: 0033 D loss: 0.6901 G loss: 2.195\n",
      "Epoch: 0034 D loss: 0.6358 G loss: 2.585\n",
      "Epoch: 0035 D loss: 0.6497 G loss: 2.427\n",
      "Epoch: 0036 D loss: 0.8378 G loss: 2.132\n",
      "Epoch: 0037 D loss: 0.8071 G loss: 2.356\n",
      "Epoch: 0038 D loss: 0.6502 G loss: 2.203\n",
      "Epoch: 0039 D loss: 0.8323 G loss: 2.25\n",
      "Epoch: 0040 D loss: 0.4725 G loss: 2.26\n",
      "Epoch: 0041 D loss: 0.6398 G loss: 2.387\n",
      "Epoch: 0042 D loss: 0.5801 G loss: 2.371\n",
      "Epoch: 0043 D loss: 0.6806 G loss: 2.308\n",
      "Epoch: 0044 D loss: 0.6349 G loss: 2.113\n",
      "Epoch: 0045 D loss: 0.7154 G loss: 2.005\n",
      "Epoch: 0046 D loss: 0.7286 G loss: 2.09\n",
      "Epoch: 0047 D loss: 0.6496 G loss: 2.691\n",
      "Epoch: 0048 D loss: 0.6321 G loss: 2.453\n",
      "Epoch: 0049 D loss: 0.8703 G loss: 2.117\n",
      "Epoch: 0050 D loss: 0.7632 G loss: 2.089\n",
      "Epoch: 0051 D loss: 0.8476 G loss: 1.829\n",
      "Epoch: 0052 D loss: 0.7364 G loss: 2.083\n",
      "Epoch: 0053 D loss: 0.6924 G loss: 2.087\n",
      "Epoch: 0054 D loss: 0.8057 G loss: 2.176\n",
      "Epoch: 0055 D loss: 0.6307 G loss: 2.083\n",
      "Epoch: 0056 D loss: 0.5689 G loss: 2.565\n",
      "Epoch: 0057 D loss: 0.7252 G loss: 2.251\n",
      "Epoch: 0058 D loss: 0.7174 G loss: 2.182\n",
      "Epoch: 0059 D loss: 0.901 G loss: 2.169\n",
      "Epoch: 0060 D loss: 0.7855 G loss: 2.291\n",
      "Epoch: 0061 D loss: 0.6547 G loss: 2.357\n",
      "Epoch: 0062 D loss: 0.6485 G loss: 2.029\n",
      "Epoch: 0063 D loss: 0.697 G loss: 2.243\n",
      "Epoch: 0064 D loss: 0.8694 G loss: 1.95\n",
      "Epoch: 0065 D loss: 0.6818 G loss: 1.982\n",
      "Epoch: 0066 D loss: 0.5676 G loss: 2.145\n",
      "Epoch: 0067 D loss: 0.7313 G loss: 2.061\n",
      "Epoch: 0068 D loss: 0.7961 G loss: 2.291\n",
      "Epoch: 0069 D loss: 0.5952 G loss: 2.01\n",
      "Epoch: 0070 D loss: 0.6153 G loss: 2.22\n",
      "Epoch: 0071 D loss: 0.5051 G loss: 2.002\n",
      "Epoch: 0072 D loss: 0.7798 G loss: 2.322\n",
      "Epoch: 0073 D loss: 0.7726 G loss: 2.242\n",
      "Epoch: 0074 D loss: 0.7581 G loss: 2.309\n",
      "Epoch: 0075 D loss: 0.61 G loss: 2.246\n",
      "Epoch: 0076 D loss: 0.696 G loss: 2.092\n",
      "Epoch: 0077 D loss: 0.8008 G loss: 2.183\n",
      "Epoch: 0078 D loss: 0.6815 G loss: 2.098\n",
      "Epoch: 0079 D loss: 0.7112 G loss: 2.211\n",
      "Epoch: 0080 D loss: 0.7237 G loss: 2.066\n",
      "Epoch: 0081 D loss: 0.5163 G loss: 2.151\n",
      "Epoch: 0082 D loss: 0.6008 G loss: 2.545\n",
      "Epoch: 0083 D loss: 0.7358 G loss: 2.026\n",
      "Epoch: 0084 D loss: 0.6641 G loss: 2.126\n",
      "Epoch: 0085 D loss: 0.6105 G loss: 2.179\n",
      "Epoch: 0086 D loss: 0.6947 G loss: 2.289\n",
      "Epoch: 0087 D loss: 0.6044 G loss: 2.276\n",
      "Epoch: 0088 D loss: 0.6245 G loss: 2.032\n",
      "Epoch: 0089 D loss: 0.6255 G loss: 2.275\n",
      "Epoch: 0090 D loss: 0.7178 G loss: 1.943\n",
      "Epoch: 0091 D loss: 0.586 G loss: 1.911\n",
      "Epoch: 0092 D loss: 0.772 G loss: 2.098\n",
      "Epoch: 0093 D loss: 0.7023 G loss: 2.196\n",
      "Epoch: 0094 D loss: 0.5362 G loss: 2.46\n",
      "Epoch: 0095 D loss: 0.6865 G loss: 1.833\n",
      "Epoch: 0096 D loss: 0.8328 G loss: 2.335\n",
      "Epoch: 0097 D loss: 0.7364 G loss: 2.374\n",
      "Epoch: 0098 D loss: 0.5933 G loss: 2.122\n",
      "Epoch: 0099 D loss: 0.5825 G loss: 2.184\n",
      "최적화 완료!\n"
     ]
    }
   ],
   "source": [
    "sess = tf.Session()\n",
    "sess.run(tf.global_variables_initializer())\n",
    "\n",
    "total_batch = int(mnist.train.num_examples/batch_size)\n",
    "loss_val_D, loss_val_G = 0, 0\n",
    "\n",
    "for epoch in range(total_epoch):\n",
    "    for i in range(total_batch):\n",
    "        batch_xs, batch_ys = mnist.train.next_batch(batch_size)\n",
    "        noise = get_noise(batch_size, n_noise)\n",
    "\n",
    "        _, loss_val_D = sess.run([train_D, loss_D],\n",
    "                                 feed_dict={X: batch_xs, Y: batch_ys, Z: noise})\n",
    "        _, loss_val_G = sess.run([train_G, loss_G],\n",
    "                                 feed_dict={Y: batch_ys, Z: noise})\n",
    "\n",
    "    print('Epoch:', '%04d' % epoch,\n",
    "          'D loss: {:.4}'.format(loss_val_D),\n",
    "          'G loss: {:.4}'.format(loss_val_G))\n",
    "\n",
    "    #########\n",
    "    # 학습이 되어가는 모습을 보기 위해 주기적으로 레이블에 따른 이미지를 생성하여 저장\n",
    "    ######\n",
    "    if epoch == 0 or (epoch + 1) % 10 == 0:\n",
    "        sample_size = 10\n",
    "        noise = get_noise(sample_size, n_noise)\n",
    "        samples = sess.run(G,\n",
    "                           feed_dict={Y: mnist.test.labels[:sample_size],\n",
    "                                      Z: noise})\n",
    "\n",
    "        fig, ax = plt.subplots(2, sample_size, figsize=(sample_size, 2))\n",
    "\n",
    "        for i in range(sample_size):\n",
    "            ax[0][i].set_axis_off()\n",
    "            ax[1][i].set_axis_off()\n",
    "\n",
    "            ax[0][i].imshow(np.reshape(mnist.test.images[i], (28, 28)))\n",
    "            ax[1][i].imshow(np.reshape(samples[i], (28, 28)))\n",
    "\n",
    "        plt.savefig('samples2/{}.png'.format(str(epoch).zfill(3)), bbox_inches='tight')\n",
    "        plt.close(fig)\n",
    "\n",
    "print('최적화 완료!')"
   ]
  }
 ],
 "metadata": {
  "kernelspec": {
   "display_name": "Python 3",
   "language": "python",
   "name": "python3"
  },
  "language_info": {
   "codemirror_mode": {
    "name": "ipython",
    "version": 3
   },
   "file_extension": ".py",
   "mimetype": "text/x-python",
   "name": "python",
   "nbconvert_exporter": "python",
   "pygments_lexer": "ipython3",
   "version": "3.7.6"
  }
 },
 "nbformat": 4,
 "nbformat_minor": 4
}
