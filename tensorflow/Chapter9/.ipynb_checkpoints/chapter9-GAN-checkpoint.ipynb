{
 "cells": [
  {
   "cell_type": "code",
   "execution_count": 1,
   "metadata": {},
   "outputs": [
    {
     "name": "stdout",
     "output_type": "stream",
     "text": [
      "WARNING:tensorflow:From c:\\users\\jiyun lee\\appdata\\local\\programs\\python\\python37\\lib\\site-packages\\tensorflow_core\\python\\compat\\v2_compat.py:65: disable_resource_variables (from tensorflow.python.ops.variable_scope) is deprecated and will be removed in a future version.\n",
      "Instructions for updating:\n",
      "non-resource variables are not supported in the long term\n",
      "WARNING:tensorflow:From <ipython-input-1-35cf02ac6afe>:7: read_data_sets (from tensorflow.examples.tutorials.mnist.input_data) is deprecated and will be removed in a future version.\n",
      "Instructions for updating:\n",
      "Please use alternatives such as: tensorflow_datasets.load('mnist')\n",
      "WARNING:tensorflow:From c:\\users\\jiyun lee\\appdata\\local\\programs\\python\\python37\\lib\\site-packages\\tensorflow_core\\examples\\tutorials\\mnist\\input_data.py:297: _maybe_download (from tensorflow.examples.tutorials.mnist.input_data) is deprecated and will be removed in a future version.\n",
      "Instructions for updating:\n",
      "Please write your own downloading logic.\n",
      "Successfully downloaded train-images-idx3-ubyte.gz 9912422 bytes.\n",
      "WARNING:tensorflow:From c:\\users\\jiyun lee\\appdata\\local\\programs\\python\\python37\\lib\\site-packages\\tensorflow_core\\examples\\tutorials\\mnist\\input_data.py:299: _extract_images (from tensorflow.examples.tutorials.mnist.input_data) is deprecated and will be removed in a future version.\n",
      "Instructions for updating:\n",
      "Please use tf.data to implement this functionality.\n",
      "Extracting ./mnist/data/train-images-idx3-ubyte.gz\n",
      "Successfully downloaded train-labels-idx1-ubyte.gz 28881 bytes.\n",
      "WARNING:tensorflow:From c:\\users\\jiyun lee\\appdata\\local\\programs\\python\\python37\\lib\\site-packages\\tensorflow_core\\examples\\tutorials\\mnist\\input_data.py:304: _extract_labels (from tensorflow.examples.tutorials.mnist.input_data) is deprecated and will be removed in a future version.\n",
      "Instructions for updating:\n",
      "Please use tf.data to implement this functionality.\n",
      "Extracting ./mnist/data/train-labels-idx1-ubyte.gz\n",
      "WARNING:tensorflow:From c:\\users\\jiyun lee\\appdata\\local\\programs\\python\\python37\\lib\\site-packages\\tensorflow_core\\examples\\tutorials\\mnist\\input_data.py:112: _dense_to_one_hot (from tensorflow.examples.tutorials.mnist.input_data) is deprecated and will be removed in a future version.\n",
      "Instructions for updating:\n",
      "Please use tf.one_hot on tensors.\n",
      "Successfully downloaded t10k-images-idx3-ubyte.gz 1648877 bytes.\n",
      "Extracting ./mnist/data/t10k-images-idx3-ubyte.gz\n",
      "Successfully downloaded t10k-labels-idx1-ubyte.gz 4542 bytes.\n",
      "Extracting ./mnist/data/t10k-labels-idx1-ubyte.gz\n",
      "WARNING:tensorflow:From c:\\users\\jiyun lee\\appdata\\local\\programs\\python\\python37\\lib\\site-packages\\tensorflow_core\\examples\\tutorials\\mnist\\input_data.py:328: _DataSet.__init__ (from tensorflow.examples.tutorials.mnist.input_data) is deprecated and will be removed in a future version.\n",
      "Instructions for updating:\n",
      "Please use alternatives such as official/mnist/_DataSet.py from tensorflow/models.\n"
     ]
    }
   ],
   "source": [
    "import tensorflow.compat.v1 as tf\n",
    "tf.disable_v2_behavior()\n",
    "import matplotlib.pyplot as plt\n",
    "import numpy as np\n",
    "\n",
    "from tensorflow.examples.tutorials.mnist import input_data\n",
    "mnist = input_data.read_data_sets(\"./mnist/data/\", one_hot=True)"
   ]
  },
  {
   "cell_type": "code",
   "execution_count": 5,
   "metadata": {},
   "outputs": [],
   "source": [
    "total_epoch = 100\n",
    "batch_size = 100\n",
    "learning_rate = 0.0002\n",
    "\n",
    "n_hidden = 256\n",
    "n_input = 28 * 28\n",
    "n_noise = 128"
   ]
  },
  {
   "cell_type": "code",
   "execution_count": 6,
   "metadata": {},
   "outputs": [],
   "source": [
    "# GAN 도 Unsupervised 학습이므로 Autoencoder 처럼 Y 를 사용하지 않습니다.\n",
    "X = tf.placeholder(tf.float32, [None, n_input])\n",
    "# 노이즈 Z를 입력값으로 사용합니다.\n",
    "Z = tf.placeholder(tf.float32, [None, n_noise])"
   ]
  },
  {
   "cell_type": "code",
   "execution_count": 7,
   "metadata": {},
   "outputs": [],
   "source": [
    "G_W1 = tf.Variable(tf.random_normal([n_noise, n_hidden], stddev=0.01))\n",
    "G_b1 = tf.Variable(tf.zeros([n_hidden]))\n",
    "G_W2 = tf.Variable(tf.random_normal([n_hidden, n_input], stddev=0.01))\n",
    "G_b2 = tf.Variable(tf.zeros([n_input]))"
   ]
  },
  {
   "cell_type": "code",
   "execution_count": 9,
   "metadata": {},
   "outputs": [],
   "source": [
    "# 판별기 신경망에 사용하는 변수들입니다.\n",
    "D_W1 = tf.Variable(tf.random_normal([n_input, n_hidden], stddev=0.01))\n",
    "D_b1 = tf.Variable(tf.zeros([n_hidden]))\n",
    "# 판별기의 최종 결과값은 얼마나 진짜와 가깝냐를 판단하는 한 개의 스칼라값입니다.\n",
    "D_W2 = tf.Variable(tf.random_normal([n_hidden, 1], stddev=0.01))\n",
    "D_b2 = tf.Variable(tf.zeros([1]))"
   ]
  },
  {
   "cell_type": "code",
   "execution_count": 10,
   "metadata": {},
   "outputs": [],
   "source": [
    "# 생성기(G) 신경망을 구성합니다.\n",
    "def generator(noise_z):\n",
    "    hidden = tf.nn.relu(\n",
    "                    tf.matmul(noise_z, G_W1) + G_b1)\n",
    "    output = tf.nn.sigmoid(\n",
    "                    tf.matmul(hidden, G_W2) + G_b2)\n",
    "\n",
    "    return output\n"
   ]
  },
  {
   "cell_type": "code",
   "execution_count": 11,
   "metadata": {},
   "outputs": [],
   "source": [
    "def discriminator(inputs):\n",
    "    hidden = tf.nn.relu(\n",
    "                    tf.matmul(inputs, D_W1) + D_b1)\n",
    "    output = tf.nn.sigmoid(\n",
    "                    tf.matmul(hidden, D_W2) + D_b2)\n",
    "\n",
    "    return output\n"
   ]
  },
  {
   "cell_type": "code",
   "execution_count": 12,
   "metadata": {},
   "outputs": [],
   "source": [
    "def get_noise(batch_size, n_noise):\n",
    "    return np.random.normal(size=(batch_size, n_noise))"
   ]
  },
  {
   "cell_type": "code",
   "execution_count": 13,
   "metadata": {},
   "outputs": [],
   "source": [
    "\n",
    "# 노이즈를 이용해 랜덤한 이미지를 생성합니다.\n",
    "G = generator(Z)\n",
    "# 노이즈를 이용해 생성한 이미지가 진짜 이미지인지 판별한 값을 구합니다.\n",
    "D_gene = discriminator(G)\n",
    "# 진짜 이미지를 이용해 판별한 값을 구합니다.\n",
    "D_real = discriminator(X)"
   ]
  },
  {
   "cell_type": "code",
   "execution_count": 14,
   "metadata": {},
   "outputs": [],
   "source": [
    "loss_D = tf.reduce_mean(tf.log(D_real) + tf.log(1 - D_gene))"
   ]
  },
  {
   "cell_type": "code",
   "execution_count": 15,
   "metadata": {},
   "outputs": [],
   "source": [
    "loss_G = tf.reduce_mean(tf.log(D_gene))"
   ]
  },
  {
   "cell_type": "code",
   "execution_count": 16,
   "metadata": {},
   "outputs": [],
   "source": [
    "D_var_list = [D_W1, D_b1, D_W2, D_b2]\n",
    "G_var_list = [G_W1, G_b1, G_W2, G_b2]"
   ]
  },
  {
   "cell_type": "code",
   "execution_count": 17,
   "metadata": {},
   "outputs": [],
   "source": [
    "train_D = tf.train.AdamOptimizer(learning_rate).minimize(-loss_D,\n",
    "                                                         var_list=D_var_list)\n",
    "train_G = tf.train.AdamOptimizer(learning_rate).minimize(-loss_G,\n",
    "                                                         var_list=G_var_list)"
   ]
  },
  {
   "cell_type": "code",
   "execution_count": 19,
   "metadata": {},
   "outputs": [
    {
     "name": "stdout",
     "output_type": "stream",
     "text": [
      "Epoch: 0000 D loss: -0.5316 G loss: -2.029\n",
      "Epoch: 0001 D loss: -0.2521 G loss: -2.631\n",
      "Epoch: 0002 D loss: -0.152 G loss: -3.012\n",
      "Epoch: 0003 D loss: -0.4966 G loss: -1.575\n",
      "Epoch: 0004 D loss: -0.3783 G loss: -1.874\n",
      "Epoch: 0005 D loss: -0.4843 G loss: -2.318\n",
      "Epoch: 0006 D loss: -0.2033 G loss: -2.713\n",
      "Epoch: 0007 D loss: -0.2836 G loss: -2.253\n",
      "Epoch: 0008 D loss: -0.2914 G loss: -2.384\n",
      "Epoch: 0009 D loss: -0.2826 G loss: -2.708\n",
      "Epoch: 0010 D loss: -0.4846 G loss: -2.135\n",
      "Epoch: 0011 D loss: -0.3833 G loss: -2.173\n",
      "Epoch: 0012 D loss: -0.467 G loss: -2.085\n",
      "Epoch: 0013 D loss: -0.4718 G loss: -2.418\n",
      "Epoch: 0014 D loss: -0.5393 G loss: -2.186\n",
      "Epoch: 0015 D loss: -0.4708 G loss: -2.224\n",
      "Epoch: 0016 D loss: -0.508 G loss: -1.87\n",
      "Epoch: 0017 D loss: -0.513 G loss: -2.241\n",
      "Epoch: 0018 D loss: -0.3931 G loss: -2.779\n",
      "Epoch: 0019 D loss: -0.5179 G loss: -1.962\n",
      "Epoch: 0020 D loss: -0.6791 G loss: -1.99\n",
      "Epoch: 0021 D loss: -0.5676 G loss: -2.136\n",
      "Epoch: 0022 D loss: -0.4278 G loss: -2.361\n",
      "Epoch: 0023 D loss: -0.4935 G loss: -2.192\n",
      "Epoch: 0024 D loss: -0.4861 G loss: -2.322\n",
      "Epoch: 0025 D loss: -0.5297 G loss: -2.127\n",
      "Epoch: 0026 D loss: -0.5871 G loss: -2.232\n",
      "Epoch: 0027 D loss: -0.5098 G loss: -2.17\n",
      "Epoch: 0028 D loss: -0.6201 G loss: -2.087\n",
      "Epoch: 0029 D loss: -0.5443 G loss: -2.086\n",
      "Epoch: 0030 D loss: -0.7282 G loss: -1.994\n",
      "Epoch: 0031 D loss: -0.5488 G loss: -2.003\n",
      "Epoch: 0032 D loss: -0.8546 G loss: -1.823\n",
      "Epoch: 0033 D loss: -0.5899 G loss: -2.067\n",
      "Epoch: 0034 D loss: -0.6088 G loss: -2.098\n",
      "Epoch: 0035 D loss: -0.6121 G loss: -1.923\n",
      "Epoch: 0036 D loss: -0.6811 G loss: -2.115\n",
      "Epoch: 0037 D loss: -0.8343 G loss: -1.793\n",
      "Epoch: 0038 D loss: -0.726 G loss: -1.807\n",
      "Epoch: 0039 D loss: -0.7877 G loss: -1.892\n",
      "Epoch: 0040 D loss: -0.7063 G loss: -1.831\n",
      "Epoch: 0041 D loss: -0.6854 G loss: -1.797\n",
      "Epoch: 0042 D loss: -0.8282 G loss: -1.697\n",
      "Epoch: 0043 D loss: -0.8607 G loss: -1.725\n",
      "Epoch: 0044 D loss: -0.749 G loss: -1.988\n",
      "Epoch: 0045 D loss: -1.022 G loss: -1.696\n",
      "Epoch: 0046 D loss: -0.7593 G loss: -1.893\n",
      "Epoch: 0047 D loss: -0.6571 G loss: -1.922\n",
      "Epoch: 0048 D loss: -0.747 G loss: -1.862\n",
      "Epoch: 0049 D loss: -0.818 G loss: -2.053\n",
      "Epoch: 0050 D loss: -0.8976 G loss: -1.621\n",
      "Epoch: 0051 D loss: -0.9618 G loss: -1.598\n",
      "Epoch: 0052 D loss: -0.7261 G loss: -1.864\n",
      "Epoch: 0053 D loss: -0.8662 G loss: -1.551\n",
      "Epoch: 0054 D loss: -0.9167 G loss: -1.793\n",
      "Epoch: 0055 D loss: -0.7438 G loss: -1.786\n",
      "Epoch: 0056 D loss: -0.8837 G loss: -1.609\n",
      "Epoch: 0057 D loss: -0.9955 G loss: -1.637\n",
      "Epoch: 0058 D loss: -0.8287 G loss: -1.672\n",
      "Epoch: 0059 D loss: -1.067 G loss: -1.468\n",
      "Epoch: 0060 D loss: -1.05 G loss: -1.536\n",
      "Epoch: 0061 D loss: -0.8498 G loss: -1.506\n",
      "Epoch: 0062 D loss: -0.7184 G loss: -1.888\n",
      "Epoch: 0063 D loss: -0.8643 G loss: -1.69\n",
      "Epoch: 0064 D loss: -0.8979 G loss: -1.41\n",
      "Epoch: 0065 D loss: -0.8886 G loss: -1.589\n",
      "Epoch: 0066 D loss: -0.8647 G loss: -1.683\n",
      "Epoch: 0067 D loss: -0.6841 G loss: -1.713\n",
      "Epoch: 0068 D loss: -0.8779 G loss: -1.588\n",
      "Epoch: 0069 D loss: -0.8703 G loss: -1.563\n",
      "Epoch: 0070 D loss: -0.8377 G loss: -1.621\n",
      "Epoch: 0071 D loss: -0.768 G loss: -1.705\n",
      "Epoch: 0072 D loss: -0.7571 G loss: -1.765\n",
      "Epoch: 0073 D loss: -0.7818 G loss: -1.602\n",
      "Epoch: 0074 D loss: -0.7349 G loss: -1.88\n",
      "Epoch: 0075 D loss: -0.8441 G loss: -1.462\n",
      "Epoch: 0076 D loss: -0.8934 G loss: -1.743\n",
      "Epoch: 0077 D loss: -0.7855 G loss: -1.721\n",
      "Epoch: 0078 D loss: -0.9055 G loss: -1.777\n",
      "Epoch: 0079 D loss: -0.6887 G loss: -1.838\n",
      "Epoch: 0080 D loss: -0.9189 G loss: -1.874\n",
      "Epoch: 0081 D loss: -0.8975 G loss: -1.752\n",
      "Epoch: 0082 D loss: -0.8713 G loss: -1.921\n",
      "Epoch: 0083 D loss: -0.8441 G loss: -1.622\n",
      "Epoch: 0084 D loss: -0.7487 G loss: -1.732\n",
      "Epoch: 0085 D loss: -0.8841 G loss: -1.522\n",
      "Epoch: 0086 D loss: -0.8957 G loss: -1.605\n",
      "Epoch: 0087 D loss: -0.8671 G loss: -1.632\n",
      "Epoch: 0088 D loss: -0.913 G loss: -1.63\n",
      "Epoch: 0089 D loss: -0.8813 G loss: -1.668\n",
      "Epoch: 0090 D loss: -0.8842 G loss: -1.601\n",
      "Epoch: 0091 D loss: -0.9627 G loss: -1.736\n",
      "Epoch: 0092 D loss: -0.8969 G loss: -1.634\n",
      "Epoch: 0093 D loss: -0.8032 G loss: -1.723\n",
      "Epoch: 0094 D loss: -0.7677 G loss: -1.716\n",
      "Epoch: 0095 D loss: -0.6699 G loss: -1.779\n",
      "Epoch: 0096 D loss: -1.024 G loss: -1.441\n",
      "Epoch: 0097 D loss: -0.9491 G loss: -1.682\n",
      "Epoch: 0098 D loss: -0.8555 G loss: -1.578\n",
      "Epoch: 0099 D loss: -0.7759 G loss: -1.801\n",
      "최적화 완료!\n"
     ]
    }
   ],
   "source": [
    "sess = tf.Session()\n",
    "sess.run(tf.global_variables_initializer())\n",
    "\n",
    "total_batch = int(mnist.train.num_examples/batch_size)\n",
    "loss_val_D, loss_val_G = 0, 0\n",
    "\n",
    "for epoch in range(total_epoch):\n",
    "    for i in range(total_batch):\n",
    "        batch_xs, batch_ys = mnist.train.next_batch(batch_size)\n",
    "        noise = get_noise(batch_size, n_noise)\n",
    "\n",
    "        # 판별기와 생성기 신경망을 각각 학습시킵니다.\n",
    "        _, loss_val_D = sess.run([train_D, loss_D],\n",
    "                                 feed_dict={X: batch_xs, Z: noise})\n",
    "        _, loss_val_G = sess.run([train_G, loss_G],\n",
    "                                 feed_dict={Z: noise})\n",
    "\n",
    "    print('Epoch:', '%04d' % epoch,\n",
    "          'D loss: {:.4}'.format(loss_val_D),\n",
    "          'G loss: {:.4}'.format(loss_val_G))\n",
    "\n",
    "    #########\n",
    "    # 학습이 되어가는 모습을 보기 위해 주기적으로 이미지를 생성하여 저장\n",
    "    ######\n",
    "    if epoch == 0 or (epoch + 1) % 10 == 0:\n",
    "        sample_size = 10\n",
    "        noise = get_noise(sample_size, n_noise)\n",
    "        samples = sess.run(G, feed_dict={Z: noise})\n",
    "\n",
    "        fig, ax = plt.subplots(1, sample_size, figsize=(sample_size, 1))\n",
    "\n",
    "        for i in range(sample_size):\n",
    "            ax[i].set_axis_off()\n",
    "            ax[i].imshow(np.reshape(samples[i], (28, 28)))\n",
    "\n",
    "        plt.savefig('samples/{}.png'.format(str(epoch).zfill(3)), bbox_inches='tight')\n",
    "        plt.close(fig)\n",
    "\n",
    "print('최적화 완료!')"
   ]
  }
 ],
 "metadata": {
  "kernelspec": {
   "display_name": "Python 3",
   "language": "python",
   "name": "python3"
  },
  "language_info": {
   "codemirror_mode": {
    "name": "ipython",
    "version": 3
   },
   "file_extension": ".py",
   "mimetype": "text/x-python",
   "name": "python",
   "nbconvert_exporter": "python",
   "pygments_lexer": "ipython3",
   "version": "3.7.6"
  }
 },
 "nbformat": 4,
 "nbformat_minor": 4
}
